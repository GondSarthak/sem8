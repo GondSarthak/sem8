#Classification using Deep neural network.
#1. Multiclass classification using Deep Neural Networks: Example: Use the OCR letter
#recognition dataset https://archive.ics.uci.edu/ml/datasets/letter+recognition
#importing necessary libraries
import pandas as pd
import numpy as np
from sklearn import svm
from sklearn.model_selection import train_test_split
from sklearn.metrics import multilabel_confusion_matrix
import math
import time
import seaborn as sns
import tensorflow as tf
from keras.models import Sequential
from keras.layers import Dense
from sklearn.preprocessing import LabelEncoder
